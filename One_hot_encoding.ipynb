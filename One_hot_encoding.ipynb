{
  "nbformat": 4,
  "nbformat_minor": 0,
  "metadata": {
    "colab": {
      "name": "One_hot_encoding.ipynb",
      "version": "0.3.2",
      "provenance": [],
      "collapsed_sections": [],
      "include_colab_link": true
    },
    "kernelspec": {
      "name": "python3",
      "display_name": "Python 3"
    }
  },
  "cells": [
    {
      "cell_type": "markdown",
      "metadata": {
        "id": "view-in-github",
        "colab_type": "text"
      },
      "source": [
        "<a href=\"https://colab.research.google.com/github/prashankkadam/OneHotEncoding/blob/master/One_hot_encoding.ipynb\" target=\"_parent\"><img src=\"https://colab.research.google.com/assets/colab-badge.svg\" alt=\"Open In Colab\"/></a>"
      ]
    },
    {
      "cell_type": "markdown",
      "metadata": {
        "id": "cteIZdqLOGhv",
        "colab_type": "text"
      },
      "source": [
        "## **One hot encoding**\n",
        "\n",
        "This piece of code is a simple introduction to one hot encoding which is the most widely used method to convert categorical data into a continuous form.\n"
      ]
    },
    {
      "cell_type": "markdown",
      "metadata": {
        "id": "Zz2bP3HcO047",
        "colab_type": "text"
      },
      "source": [
        "## **Creating a new dataset**"
      ]
    },
    {
      "cell_type": "code",
      "metadata": {
        "id": "uRYf95hcNiya",
        "colab_type": "code",
        "colab": {}
      },
      "source": [
        "import pandas as pd\n",
        "\n",
        "df = pd.DataFrame([[\"London\", \"car\", 20],\n",
        "                   [\"Cambridge\", \"car\", 10],\n",
        "                   [\"Liverpool\", \"bus\", 30]],\n",
        "                  columns=[\"city\", \"transport\", \"duration\"])"
      ],
      "execution_count": 0,
      "outputs": []
    },
    {
      "cell_type": "code",
      "metadata": {
        "id": "l3SxJWgyPeF1",
        "colab_type": "code",
        "colab": {}
      },
      "source": [
        "df_test = pd.DataFrame([[\"Manchester\", \"bike\", 30],\n",
        "                        [\"Cambridge\", \"car\", 40],\n",
        "                        [\"Liverpool\", \"bike\", 10]],\n",
        "                       columns=[\"city\", \"transport\", \"duration\"])"
      ],
      "execution_count": 0,
      "outputs": []
    },
    {
      "cell_type": "markdown",
      "metadata": {
        "id": "a7GZcgndQFx5",
        "colab_type": "text"
      },
      "source": [
        "## **Processing the training data:**"
      ]
    },
    {
      "cell_type": "markdown",
      "metadata": {
        "id": "PG4-KsMIQMvA",
        "colab_type": "text"
      },
      "source": [
        "First we will define the list of categorical data that needs processing:"
      ]
    },
    {
      "cell_type": "code",
      "metadata": {
        "id": "FsQ44m3XP-wU",
        "colab_type": "code",
        "colab": {}
      },
      "source": [
        "cat_columns = [\"city\", \"transport\"]"
      ],
      "execution_count": 0,
      "outputs": []
    },
    {
      "cell_type": "markdown",
      "metadata": {
        "id": "xxj7y07uQhjJ",
        "colab_type": "text"
      },
      "source": [
        "Now we will create dummy features by calling the pandas get dummy function. \n",
        "Creating a dataframe for our processed data"
      ]
    },
    {
      "cell_type": "code",
      "metadata": {
        "id": "B67TB5dBQaSD",
        "colab_type": "code",
        "colab": {}
      },
      "source": [
        "df_processed = pd.get_dummies(df, prefix_sep=\"__\",\n",
        "                              columns=cat_columns)"
      ],
      "execution_count": 0,
      "outputs": []
    },
    {
      "cell_type": "code",
      "metadata": {
        "id": "spsHXTbYRA_p",
        "colab_type": "code",
        "colab": {
          "base_uri": "https://localhost:8080/",
          "height": 162
        },
        "outputId": "c5cf5806-13db-44a9-97f4-45a2b63a92da"
      },
      "source": [
        "df_processed"
      ],
      "execution_count": 5,
      "outputs": [
        {
          "output_type": "execute_result",
          "data": {
            "text/html": [
              "<div>\n",
              "<style scoped>\n",
              "    .dataframe tbody tr th:only-of-type {\n",
              "        vertical-align: middle;\n",
              "    }\n",
              "\n",
              "    .dataframe tbody tr th {\n",
              "        vertical-align: top;\n",
              "    }\n",
              "\n",
              "    .dataframe thead th {\n",
              "        text-align: right;\n",
              "    }\n",
              "</style>\n",
              "<table border=\"1\" class=\"dataframe\">\n",
              "  <thead>\n",
              "    <tr style=\"text-align: right;\">\n",
              "      <th></th>\n",
              "      <th>duration</th>\n",
              "      <th>city__Cambridge</th>\n",
              "      <th>city__Liverpool</th>\n",
              "      <th>city__London</th>\n",
              "      <th>transport__bus</th>\n",
              "      <th>transport__car</th>\n",
              "    </tr>\n",
              "  </thead>\n",
              "  <tbody>\n",
              "    <tr>\n",
              "      <th>0</th>\n",
              "      <td>20</td>\n",
              "      <td>0</td>\n",
              "      <td>0</td>\n",
              "      <td>1</td>\n",
              "      <td>0</td>\n",
              "      <td>1</td>\n",
              "    </tr>\n",
              "    <tr>\n",
              "      <th>1</th>\n",
              "      <td>10</td>\n",
              "      <td>1</td>\n",
              "      <td>0</td>\n",
              "      <td>0</td>\n",
              "      <td>0</td>\n",
              "      <td>1</td>\n",
              "    </tr>\n",
              "    <tr>\n",
              "      <th>2</th>\n",
              "      <td>30</td>\n",
              "      <td>0</td>\n",
              "      <td>1</td>\n",
              "      <td>0</td>\n",
              "      <td>1</td>\n",
              "      <td>0</td>\n",
              "    </tr>\n",
              "  </tbody>\n",
              "</table>\n",
              "</div>"
            ],
            "text/plain": [
              "   duration  city__Cambridge  ...  transport__bus  transport__car\n",
              "0        20                0  ...               0               1\n",
              "1        10                1  ...               0               1\n",
              "2        30                0  ...               1               0\n",
              "\n",
              "[3 rows x 6 columns]"
            ]
          },
          "metadata": {
            "tags": []
          },
          "execution_count": 5
        }
      ]
    },
    {
      "cell_type": "markdown",
      "metadata": {
        "id": "tdTbUlxPRLi4",
        "colab_type": "text"
      },
      "source": [
        "That's it for the training set part, now we have a dataframe with one hot encoded features. Now we save a few components in variables so that we can make sure that the exact same feature are updated in the test set too"
      ]
    },
    {
      "cell_type": "code",
      "metadata": {
        "id": "_zdPjrYpRDGn",
        "colab_type": "code",
        "colab": {}
      },
      "source": [
        "cat_dummies = [col for col in df_processed \n",
        "               if \"__\" in col\n",
        "               and col.split(\"__\")[0] in cat_columns]"
      ],
      "execution_count": 0,
      "outputs": []
    },
    {
      "cell_type": "code",
      "metadata": {
        "id": "yVV1P6vSSFqM",
        "colab_type": "code",
        "colab": {
          "base_uri": "https://localhost:8080/",
          "height": 102
        },
        "outputId": "51d47b84-a332-4819-9d7b-2b16a6e2d116"
      },
      "source": [
        "cat_dummies\n"
      ],
      "execution_count": 7,
      "outputs": [
        {
          "output_type": "execute_result",
          "data": {
            "text/plain": [
              "['city__Cambridge',\n",
              " 'city__Liverpool',\n",
              " 'city__London',\n",
              " 'transport__bus',\n",
              " 'transport__car']"
            ]
          },
          "metadata": {
            "tags": []
          },
          "execution_count": 7
        }
      ]
    },
    {
      "cell_type": "markdown",
      "metadata": {
        "id": "2_ybNolNSSRb",
        "colab_type": "text"
      },
      "source": [
        "Let's also save the list of columns so that we can enforce order later on"
      ]
    },
    {
      "cell_type": "code",
      "metadata": {
        "id": "2tTosaRySJUI",
        "colab_type": "code",
        "colab": {}
      },
      "source": [
        "processed_columns = list(df_processed.columns[:])"
      ],
      "execution_count": 0,
      "outputs": []
    },
    {
      "cell_type": "code",
      "metadata": {
        "id": "slLYQorTSfPY",
        "colab_type": "code",
        "colab": {
          "base_uri": "https://localhost:8080/",
          "height": 119
        },
        "outputId": "5e9f890d-d62f-43db-de8a-83156e49b5ad"
      },
      "source": [
        "processed_columns"
      ],
      "execution_count": 9,
      "outputs": [
        {
          "output_type": "execute_result",
          "data": {
            "text/plain": [
              "['duration',\n",
              " 'city__Cambridge',\n",
              " 'city__Liverpool',\n",
              " 'city__London',\n",
              " 'transport__bus',\n",
              " 'transport__car']"
            ]
          },
          "metadata": {
            "tags": []
          },
          "execution_count": 9
        }
      ]
    },
    {
      "cell_type": "markdown",
      "metadata": {
        "id": "0S_gbnB2SlXi",
        "colab_type": "text"
      },
      "source": [
        "## **Process test data**\n",
        "\n",
        "Now we ensure our test data has the same columns:"
      ]
    },
    {
      "cell_type": "code",
      "metadata": {
        "id": "RGoorUdIShYs",
        "colab_type": "code",
        "colab": {}
      },
      "source": [
        "df_test_processed = pd.get_dummies(df_test, prefix_sep=\"__\",\n",
        "                                   columns=cat_columns)"
      ],
      "execution_count": 0,
      "outputs": []
    },
    {
      "cell_type": "code",
      "metadata": {
        "id": "e2U-MFD6TAPB",
        "colab_type": "code",
        "colab": {
          "base_uri": "https://localhost:8080/",
          "height": 162
        },
        "outputId": "f098735b-f19f-4251-87da-d2f800e3239f"
      },
      "source": [
        "df_test_processed"
      ],
      "execution_count": 11,
      "outputs": [
        {
          "output_type": "execute_result",
          "data": {
            "text/html": [
              "<div>\n",
              "<style scoped>\n",
              "    .dataframe tbody tr th:only-of-type {\n",
              "        vertical-align: middle;\n",
              "    }\n",
              "\n",
              "    .dataframe tbody tr th {\n",
              "        vertical-align: top;\n",
              "    }\n",
              "\n",
              "    .dataframe thead th {\n",
              "        text-align: right;\n",
              "    }\n",
              "</style>\n",
              "<table border=\"1\" class=\"dataframe\">\n",
              "  <thead>\n",
              "    <tr style=\"text-align: right;\">\n",
              "      <th></th>\n",
              "      <th>duration</th>\n",
              "      <th>city__Cambridge</th>\n",
              "      <th>city__Liverpool</th>\n",
              "      <th>city__Manchester</th>\n",
              "      <th>transport__bike</th>\n",
              "      <th>transport__car</th>\n",
              "    </tr>\n",
              "  </thead>\n",
              "  <tbody>\n",
              "    <tr>\n",
              "      <th>0</th>\n",
              "      <td>30</td>\n",
              "      <td>0</td>\n",
              "      <td>0</td>\n",
              "      <td>1</td>\n",
              "      <td>1</td>\n",
              "      <td>0</td>\n",
              "    </tr>\n",
              "    <tr>\n",
              "      <th>1</th>\n",
              "      <td>40</td>\n",
              "      <td>1</td>\n",
              "      <td>0</td>\n",
              "      <td>0</td>\n",
              "      <td>0</td>\n",
              "      <td>1</td>\n",
              "    </tr>\n",
              "    <tr>\n",
              "      <th>2</th>\n",
              "      <td>10</td>\n",
              "      <td>0</td>\n",
              "      <td>1</td>\n",
              "      <td>0</td>\n",
              "      <td>1</td>\n",
              "      <td>0</td>\n",
              "    </tr>\n",
              "  </tbody>\n",
              "</table>\n",
              "</div>"
            ],
            "text/plain": [
              "   duration  city__Cambridge  ...  transport__bike  transport__car\n",
              "0        30                0  ...                1               0\n",
              "1        40                1  ...                0               1\n",
              "2        10                0  ...                1               0\n",
              "\n",
              "[3 rows x 6 columns]"
            ]
          },
          "metadata": {
            "tags": []
          },
          "execution_count": 11
        }
      ]
    },
    {
      "cell_type": "markdown",
      "metadata": {
        "id": "092nD-VdTKxl",
        "colab_type": "text"
      },
      "source": [
        "In the above dataframe, we are expected to have new columns and also missing ones which are not present in the training data.\n",
        "\n",
        "We can easily clean it up by the following code:"
      ]
    },
    {
      "cell_type": "code",
      "metadata": {
        "id": "6WzZ_mLOTEDz",
        "colab_type": "code",
        "colab": {
          "base_uri": "https://localhost:8080/",
          "height": 51
        },
        "outputId": "7cd65585-d893-441a-a890-d93efe95bfbb"
      },
      "source": [
        "for col in df_test_processed.columns:\n",
        "  if (\"__\" in col) and (col.split(\"__\")[0] in cat_columns) and (col not in cat_dummies):\n",
        "    print(\"Removing additional feature {}\".format(col))\n",
        "    df_test_processed.drop(col, axis=1, inplace=True)"
      ],
      "execution_count": 13,
      "outputs": [
        {
          "output_type": "stream",
          "text": [
            "Removing additional feature city__Manchester\n",
            "Removing additional feature transport__bike\n"
          ],
          "name": "stdout"
        }
      ]
    },
    {
      "cell_type": "markdown",
      "metadata": {
        "id": "PA8CrIc2Ua18",
        "colab_type": "text"
      },
      "source": [
        "Now we need to add the missing columns and set the column vectors to 0"
      ]
    },
    {
      "cell_type": "code",
      "metadata": {
        "id": "alP9vEdTUL_V",
        "colab_type": "code",
        "colab": {
          "base_uri": "https://localhost:8080/",
          "height": 51
        },
        "outputId": "aac7e460-6c13-48a4-c71c-e1f3e1cc4ffc"
      },
      "source": [
        "for col in cat_dummies:\n",
        "  if col not in df_test_processed.columns:\n",
        "    print(\"Adding missing feature {}\".format(col))\n",
        "    df_test_processed[col] = 0\n",
        "    "
      ],
      "execution_count": 14,
      "outputs": [
        {
          "output_type": "stream",
          "text": [
            "Adding missing feature city__London\n",
            "Adding missing feature transport__bus\n"
          ],
          "name": "stdout"
        }
      ]
    },
    {
      "cell_type": "markdown",
      "metadata": {
        "id": "oDCOXvdJVBxj",
        "colab_type": "text"
      },
      "source": [
        "Now we have the same feature in both the sets, notice that the order of the columns does not remain the same in the both the sets. \n",
        "\n",
        "We need to reorder test dataframe:"
      ]
    },
    {
      "cell_type": "code",
      "metadata": {
        "id": "9oQ6TRWOU4TE",
        "colab_type": "code",
        "colab": {}
      },
      "source": [
        "df_test_processed = df_test_processed[processed_columns]"
      ],
      "execution_count": 0,
      "outputs": []
    },
    {
      "cell_type": "markdown",
      "metadata": {
        "id": "O308g7-HVeQz",
        "colab_type": "text"
      },
      "source": [
        "## **Using sklearn's one hot and label encoder**\n",
        "\n",
        "Now we do the same thing again using sklearn "
      ]
    },
    {
      "cell_type": "code",
      "metadata": {
        "id": "tBP8ZEOwVbnQ",
        "colab_type": "code",
        "colab": {}
      },
      "source": [
        "from sklearn.preprocessing import LabelEncoder, OneHotEncoder"
      ],
      "execution_count": 0,
      "outputs": []
    },
    {
      "cell_type": "markdown",
      "metadata": {
        "id": "n6GS1uuRWGT-",
        "colab_type": "text"
      },
      "source": [
        "First we create a dataframe which contains all the non-categorical features.\n",
        "\n",
        "Then, for each categorical column, we fit a label encoder, transform our column and add it to our new dataframe"
      ]
    },
    {
      "cell_type": "code",
      "metadata": {
        "id": "vP59hcxVV1MA",
        "colab_type": "code",
        "colab": {
          "base_uri": "https://localhost:8080/",
          "height": 51
        },
        "outputId": "0babe8ab-d765-4ef4-83bb-2e2c6df75c68"
      },
      "source": [
        "label_encoders = {}\n",
        "for col in cat_columns:\n",
        "  print(\"Encoding {}\".format(col))\n",
        "  new_le = LabelEncoder()\n",
        "  df_processed[col] = new_le.fit_transform(df[col])\n",
        "  label_encoders[col] = new_le"
      ],
      "execution_count": 17,
      "outputs": [
        {
          "output_type": "stream",
          "text": [
            "Encoding city\n",
            "Encoding transport\n"
          ],
          "name": "stdout"
        }
      ]
    },
    {
      "cell_type": "code",
      "metadata": {
        "id": "8mDxL2QlXBFR",
        "colab_type": "code",
        "colab": {
          "base_uri": "https://localhost:8080/",
          "height": 162
        },
        "outputId": "8c1a1e3b-8b5b-4317-f28a-b17b1669bc25"
      },
      "source": [
        "df_processed\n",
        "\n"
      ],
      "execution_count": 18,
      "outputs": [
        {
          "output_type": "execute_result",
          "data": {
            "text/html": [
              "<div>\n",
              "<style scoped>\n",
              "    .dataframe tbody tr th:only-of-type {\n",
              "        vertical-align: middle;\n",
              "    }\n",
              "\n",
              "    .dataframe tbody tr th {\n",
              "        vertical-align: top;\n",
              "    }\n",
              "\n",
              "    .dataframe thead th {\n",
              "        text-align: right;\n",
              "    }\n",
              "</style>\n",
              "<table border=\"1\" class=\"dataframe\">\n",
              "  <thead>\n",
              "    <tr style=\"text-align: right;\">\n",
              "      <th></th>\n",
              "      <th>duration</th>\n",
              "      <th>city__Cambridge</th>\n",
              "      <th>city__Liverpool</th>\n",
              "      <th>city__London</th>\n",
              "      <th>transport__bus</th>\n",
              "      <th>transport__car</th>\n",
              "      <th>city</th>\n",
              "      <th>transport</th>\n",
              "    </tr>\n",
              "  </thead>\n",
              "  <tbody>\n",
              "    <tr>\n",
              "      <th>0</th>\n",
              "      <td>20</td>\n",
              "      <td>0</td>\n",
              "      <td>0</td>\n",
              "      <td>1</td>\n",
              "      <td>0</td>\n",
              "      <td>1</td>\n",
              "      <td>2</td>\n",
              "      <td>1</td>\n",
              "    </tr>\n",
              "    <tr>\n",
              "      <th>1</th>\n",
              "      <td>10</td>\n",
              "      <td>1</td>\n",
              "      <td>0</td>\n",
              "      <td>0</td>\n",
              "      <td>0</td>\n",
              "      <td>1</td>\n",
              "      <td>0</td>\n",
              "      <td>1</td>\n",
              "    </tr>\n",
              "    <tr>\n",
              "      <th>2</th>\n",
              "      <td>30</td>\n",
              "      <td>0</td>\n",
              "      <td>1</td>\n",
              "      <td>0</td>\n",
              "      <td>1</td>\n",
              "      <td>0</td>\n",
              "      <td>1</td>\n",
              "      <td>0</td>\n",
              "    </tr>\n",
              "  </tbody>\n",
              "</table>\n",
              "</div>"
            ],
            "text/plain": [
              "   duration  city__Cambridge  city__Liverpool  ...  transport__car  city  transport\n",
              "0        20                0                0  ...               1     2          1\n",
              "1        10                1                0  ...               1     0          1\n",
              "2        30                0                1  ...               0     1          0\n",
              "\n",
              "[3 rows x 8 columns]"
            ]
          },
          "metadata": {
            "tags": []
          },
          "execution_count": 18
        }
      ]
    },
    {
      "cell_type": "markdown",
      "metadata": {
        "id": "zjKkhVrDXTjK",
        "colab_type": "text"
      },
      "source": [
        "Now that we have proper numerical features, we need to one hot encode our categorical features\n",
        "\n",
        "One hot encoding does not support passing the list of features by their names but only their indices"
      ]
    },
    {
      "cell_type": "code",
      "metadata": {
        "id": "-Ngzsk69XHc4",
        "colab_type": "code",
        "colab": {}
      },
      "source": [
        "cat_column_idx = [df_processed.columns.get_loc(col)\n",
        "                  for col in cat_columns]"
      ],
      "execution_count": 0,
      "outputs": []
    },
    {
      "cell_type": "code",
      "metadata": {
        "id": "UCLTbDqfXpWu",
        "colab_type": "code",
        "colab": {}
      },
      "source": [
        "ohe = OneHotEncoder(categorical_features=cat_column_idx,\n",
        "                    sparse=False, handle_unknown=\"ignore\")"
      ],
      "execution_count": 0,
      "outputs": []
    },
    {
      "cell_type": "markdown",
      "metadata": {
        "id": "VJjxpWocYlSl",
        "colab_type": "text"
      },
      "source": [
        "One hot encoder will create numpy arrays of the categorical columns. \n",
        "If is diffucult to recreate the dataframe with nice labels but as most algorithms use numpy arrays we can stop at this step"
      ]
    },
    {
      "cell_type": "code",
      "metadata": {
        "id": "xMSUPnMTYkZ2",
        "colab_type": "code",
        "colab": {
          "base_uri": "https://localhost:8080/",
          "height": 71
        },
        "outputId": "e8bceae6-03c0-4889-e446-e1456290a22f"
      },
      "source": [
        "df_processed_np = ohe.fit_transform(df_processed)"
      ],
      "execution_count": 21,
      "outputs": [
        {
          "output_type": "stream",
          "text": [
            "/usr/local/lib/python3.6/dist-packages/sklearn/preprocessing/_encoders.py:451: DeprecationWarning: The 'categorical_features' keyword is deprecated in version 0.20 and will be removed in 0.22. You can use the ColumnTransformer instead.\n",
            "  \"use the ColumnTransformer instead.\", DeprecationWarning)\n"
          ],
          "name": "stderr"
        }
      ]
    },
    {
      "cell_type": "code",
      "metadata": {
        "id": "hul-8uZpZBZZ",
        "colab_type": "code",
        "colab": {
          "base_uri": "https://localhost:8080/",
          "height": 68
        },
        "outputId": "f0b70cc8-5247-4207-f590-9aa64a75f5f0"
      },
      "source": [
        "df_processed_np"
      ],
      "execution_count": 22,
      "outputs": [
        {
          "output_type": "execute_result",
          "data": {
            "text/plain": [
              "array([[ 0.,  0.,  1.,  0.,  1., 20.,  0.,  0.,  1.,  0.,  1.],\n",
              "       [ 1.,  0.,  0.,  0.,  1., 10.,  1.,  0.,  0.,  0.,  1.],\n",
              "       [ 0.,  1.,  0.,  1.,  0., 30.,  0.,  1.,  0.,  1.,  0.]])"
            ]
          },
          "metadata": {
            "tags": []
          },
          "execution_count": 22
        }
      ]
    },
    {
      "cell_type": "markdown",
      "metadata": {
        "id": "er3mkXHnZM-m",
        "colab_type": "text"
      },
      "source": [
        "## **Processing the test data**"
      ]
    },
    {
      "cell_type": "code",
      "metadata": {
        "id": "JN7RsnUAZHg2",
        "colab_type": "code",
        "colab": {}
      },
      "source": [
        "df_test_processed = df_test[[col for col in df_test.columns\n",
        "                             if col not in  cat_columns]]"
      ],
      "execution_count": 0,
      "outputs": []
    },
    {
      "cell_type": "markdown",
      "metadata": {
        "id": "rVALUP05Zn6M",
        "colab_type": "text"
      },
      "source": [
        "Using the label encoder again to properly assign the numerical values to the features"
      ]
    },
    {
      "cell_type": "code",
      "metadata": {
        "id": "jXDOYfUQZiNj",
        "colab_type": "code",
        "colab": {
          "base_uri": "https://localhost:8080/",
          "height": 309
        },
        "outputId": "9335c3a5-1ffa-486b-9d9a-4561ebe760ff"
      },
      "source": [
        "for col in cat_columns:\n",
        "  print(\"Encoding {}\".format(col))\n",
        "  label_map = {val: label for label, val in enumerate(label_encoders[col].classes_)}\n",
        "  print(label_map)\n",
        "  df_test_processed[col] = df_test[col].map(label_map)\n",
        "  df_test_processed[col] = df_test_processed[col].fillna(9999).astype(int)"
      ],
      "execution_count": 25,
      "outputs": [
        {
          "output_type": "stream",
          "text": [
            "Encoding city\n",
            "{'Cambridge': 0, 'Liverpool': 1, 'London': 2}\n",
            "Encoding transport\n",
            "{'bus': 0, 'car': 1}\n"
          ],
          "name": "stdout"
        },
        {
          "output_type": "stream",
          "text": [
            "/usr/local/lib/python3.6/dist-packages/ipykernel_launcher.py:5: SettingWithCopyWarning: \n",
            "A value is trying to be set on a copy of a slice from a DataFrame.\n",
            "Try using .loc[row_indexer,col_indexer] = value instead\n",
            "\n",
            "See the caveats in the documentation: http://pandas.pydata.org/pandas-docs/stable/indexing.html#indexing-view-versus-copy\n",
            "  \"\"\"\n",
            "/usr/local/lib/python3.6/dist-packages/ipykernel_launcher.py:6: SettingWithCopyWarning: \n",
            "A value is trying to be set on a copy of a slice from a DataFrame.\n",
            "Try using .loc[row_indexer,col_indexer] = value instead\n",
            "\n",
            "See the caveats in the documentation: http://pandas.pydata.org/pandas-docs/stable/indexing.html#indexing-view-versus-copy\n",
            "  \n"
          ],
          "name": "stderr"
        }
      ]
    },
    {
      "cell_type": "code",
      "metadata": {
        "id": "0uLlP_r8aZ8W",
        "colab_type": "code",
        "colab": {}
      },
      "source": [
        "df_test_processed_np = ohe.transform(df_test_processed)"
      ],
      "execution_count": 0,
      "outputs": []
    }
  ]
}